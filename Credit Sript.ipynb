{
 "cells": [
  {
   "cell_type": "markdown",
   "metadata": {},
   "source": [
    "# PREDICCIÓN DE PAGOS EN CLIENTES DE TARJETA DE CRÉDITO"
   ]
  },
  {
   "cell_type": "markdown",
   "metadata": {},
   "source": [
    "Mauricio Valencia Escobar (mvalence@unal.edu.co) - Universidad Nacional de Colombia sede Medellín"
   ]
  },
  {
   "cell_type": "markdown",
   "metadata": {},
   "source": [
    "El conjunto de datos para el desarrollo este trabajo fue tomado del sitio web del centro de aprendizaje de máquinas y sistemas inteligentes UCI y contiene información de los pagos de las cuotas de tarjetas de crédito de un banco de Taiwám desde Abril a Septiembre de 2005.\n",
    "\n",
    "Página web: https://archive.ics.uci.edu/ml/datasets/default+of+credit+card+clients\n",
    "\n",
    "Data set: default of credit card clients\n",
    "\n",
    "Metodología del trabajo:\n",
    "\n",
    "El problema se abordará con la metodología CRISP-DM.\n",
    "\n",
    "1.\tDefinición del problema\n",
    "2.\tDescripción de los datos\n",
    "3.\tPreparación de los datos\n",
    "4.\tModelado y evaluación\n",
    "5.\tConclusiones\n"
   ]
  },
  {
   "cell_type": "markdown",
   "metadata": {},
   "source": [
    "# 1.\tDEFINICIÓN DEL PROBLEMA"
   ]
  },
  {
   "cell_type": "markdown",
   "metadata": {},
   "source": [
    "1.1  Definición del problema real\n",
    "\n",
    "Un banco de Taiwán requiere administrar el riesgo de su producto de tarjetas de crédito, para lo cual decide predecir si sus clientes pagarán o no oportunamente su proxima cuota, para lo cual se basarán en la información historica entre abril y septiembre de 2005, la cual cuenta con los datos personales del cliente, saldos de los créditos y su respectiva oportunidad en los pagos. \n",
    "\n",
    "1.2 Definición del problema en términos de los datos\n",
    "\n",
    "Se tiene una muestra de 30.000 registros y 25 variables. Entre las variables se tiene información personal del cliente, del crédito y el cumplimento de los pagos incluyendo una etiqueta binaria que indica si cumplirá o no el próximo pago. Se requiere utilizar al menos  cuatro técnicas de clasificación para evaluar cual logra predecir mejor dichos cumplimiento deacuerdo a la naturaleza del problema.\n",
    "\n",
    "Variables del dataset:\n",
    "\n"
   ]
  },
  {
   "cell_type": "raw",
   "metadata": {},
   "source": [
    "   -------------------- -------------------------------------------------------------------\n",
    "   Nombre                Explicación        \n",
    "   -------------------- -------------------------------------------------------------------\n",
    "   limit_bal            Cantidad de dinero prestada (dolares)\n",
    "                        Incluye credito de consumo individual \n",
    "                        y suplementario (de su familia)\n",
    "\n",
    "   sex                  Genero\n",
    "                        (1 = masculino; 2 = femenino)\n",
    "\n",
    "   education            Educación\n",
    "                        (1 = postgrado; 2 = universitario; 3 = bachiller; 4 = Otros)\n",
    "\n",
    "   marriage             Estado civil \n",
    "                        (1 = casado ; 2 = soltero; 3 = otros)\n",
    "\n",
    "   age                  Edad (años)\n",
    "\n",
    "   pay_1 - pay_6        Historial de pagos de abril a septieembre de 2005 como sigue:\n",
    "\n",
    "                        pay_1 = estado de amortización en Septiembre, 2005\n",
    "                        pay_2 = estado de amortización en Agosto, 2005\n",
    "                        ...\n",
    "                        pay_6 = estado de amortización en Abril, 2005 \n",
    "\n",
    "                        La escala de medición para el estado de pago es:\n",
    "                        -1 = pago oportuno; \n",
    "                        1 = pago con retraso de un mes \n",
    "                        2 = pago con retraso de dos meses\n",
    "                        ...\n",
    "                        8 = pago con retraso de ocho meses \n",
    "                        9 = pago con retraso de dos meses y mas\n",
    "\n",
    "   bill_amt1-bill_amt5  Cantidad de saldo en el mes (dolares). \n",
    "                        bill_amt1 = Cantidad de saldo a Septiembre, 2005 \n",
    "                        bill_amt2 = Cantidad de saldo de cuenta a Agosto, 2005\n",
    "                        ...\n",
    "                        bill_amt6 = Cantidad de saldo de cuenta a Abril, 2005 \n",
    "\n",
    "   pay_amt1-pay_amt6    Cantidad del pago anterior (dolares)\n",
    "                        pay_amt1 = Cantidad del pago en Septiembre, 2005\n",
    "                        pay_amt2 = Cantidad del pago en Agosto, 2005\n",
    "                        ...\n",
    "                        pay_amt6 = Cantidad del pago en Abril, 2005 \n",
    "                        "
   ]
  },
  {
   "cell_type": "markdown",
   "metadata": {},
   "source": [
    "En términos de los datos, se desea pronosticar si un cliente pagará o no oportunamente la proxima cuota a partir de las 25 variables."
   ]
  },
  {
   "cell_type": "markdown",
   "metadata": {},
   "source": [
    "# Importaciones de Librerías"
   ]
  },
  {
   "cell_type": "code",
   "execution_count": 1235,
   "metadata": {
    "collapsed": false
   },
   "outputs": [],
   "source": [
    "## Eliminamos salida de warnings\n",
    "import warnings as ws\n",
    "ws.filterwarnings(\"ignore\")\n",
    "\n",
    "## Generales\n",
    "import numpy as np\n",
    "from itertools import chain\n",
    "import pandas as pd\n",
    "import seaborn as sns\n",
    "sns.set(style=\"darkgrid\")\n",
    "import re # regex\n",
    "import time as tm\n",
    "from scipy import stats\n",
    "import matplotlib.pyplot as plt\n",
    "%matplotlib inline\n",
    "\n",
    "## Librerías de las Metodologías\n",
    "from sklearn.neighbors import KNeighborsClassifier\n",
    "from sklearn.linear_model import SGDClassifier\n",
    "from sklearn.tree import DecisionTreeClassifier\n",
    "from sklearn.ensemble import RandomForestClassifier\n",
    "from sklearn import svm\n",
    "\n",
    "## Librerías de apoyo a las Metodologías\n",
    "from sklearn.preprocessing import LabelEncoder\n",
    "from sklearn.preprocessing import MinMaxScaler\n",
    "from sklearn.model_selection import train_test_split\n",
    "from sklearn.model_selection import GridSearchCV\n",
    "from sklearn.model_selection import cross_val_score\n",
    "from sklearn.model_selection import cross_val_predict\n",
    "from sklearn.metrics import confusion_matrix\n",
    "from sklearn.metrics import accuracy_score\n",
    "from sklearn.metrics import recall_score\n",
    "from sklearn.metrics import f1_score\n",
    "from sklearn.metrics import roc_auc_score\n",
    "from sklearn.metrics import jaccard_similarity_score\n",
    "from sklearn.metrics import classification_report\n",
    "from sklearn.feature_selection import SelectKBest\n",
    "from sklearn.feature_selection import chi2"
   ]
  },
  {
   "cell_type": "markdown",
   "metadata": {},
   "source": [
    "# Carga de datos"
   ]
  },
  {
   "cell_type": "code",
   "execution_count": 1236,
   "metadata": {
    "collapsed": false
   },
   "outputs": [
    {
     "data": {
      "text/html": [
       "<div>\n",
       "<table border=\"1\" class=\"dataframe\">\n",
       "  <thead>\n",
       "    <tr style=\"text-align: right;\">\n",
       "      <th></th>\n",
       "      <th>ID</th>\n",
       "      <th>LIMIT_BAL</th>\n",
       "      <th>SEX</th>\n",
       "      <th>EDUCATION</th>\n",
       "      <th>MARRIAGE</th>\n",
       "      <th>AGE</th>\n",
       "      <th>PAY_0</th>\n",
       "      <th>PAY_2</th>\n",
       "      <th>PAY_3</th>\n",
       "      <th>PAY_4</th>\n",
       "      <th>...</th>\n",
       "      <th>BILL_AMT4</th>\n",
       "      <th>BILL_AMT5</th>\n",
       "      <th>BILL_AMT6</th>\n",
       "      <th>PAY_AMT1</th>\n",
       "      <th>PAY_AMT2</th>\n",
       "      <th>PAY_AMT3</th>\n",
       "      <th>PAY_AMT4</th>\n",
       "      <th>PAY_AMT5</th>\n",
       "      <th>PAY_AMT6</th>\n",
       "      <th>default payment next month</th>\n",
       "    </tr>\n",
       "  </thead>\n",
       "  <tbody>\n",
       "    <tr>\n",
       "      <th>0</th>\n",
       "      <td>1</td>\n",
       "      <td>20000</td>\n",
       "      <td>2</td>\n",
       "      <td>2</td>\n",
       "      <td>1</td>\n",
       "      <td>24</td>\n",
       "      <td>2</td>\n",
       "      <td>2</td>\n",
       "      <td>-1</td>\n",
       "      <td>-1</td>\n",
       "      <td>...</td>\n",
       "      <td>0</td>\n",
       "      <td>0</td>\n",
       "      <td>0</td>\n",
       "      <td>0</td>\n",
       "      <td>689</td>\n",
       "      <td>0</td>\n",
       "      <td>0</td>\n",
       "      <td>0</td>\n",
       "      <td>0</td>\n",
       "      <td>1</td>\n",
       "    </tr>\n",
       "    <tr>\n",
       "      <th>1</th>\n",
       "      <td>2</td>\n",
       "      <td>120000</td>\n",
       "      <td>2</td>\n",
       "      <td>2</td>\n",
       "      <td>2</td>\n",
       "      <td>26</td>\n",
       "      <td>-1</td>\n",
       "      <td>2</td>\n",
       "      <td>0</td>\n",
       "      <td>0</td>\n",
       "      <td>...</td>\n",
       "      <td>3272</td>\n",
       "      <td>3455</td>\n",
       "      <td>3261</td>\n",
       "      <td>0</td>\n",
       "      <td>1000</td>\n",
       "      <td>1000</td>\n",
       "      <td>1000</td>\n",
       "      <td>0</td>\n",
       "      <td>2000</td>\n",
       "      <td>1</td>\n",
       "    </tr>\n",
       "    <tr>\n",
       "      <th>2</th>\n",
       "      <td>3</td>\n",
       "      <td>90000</td>\n",
       "      <td>2</td>\n",
       "      <td>2</td>\n",
       "      <td>2</td>\n",
       "      <td>34</td>\n",
       "      <td>0</td>\n",
       "      <td>0</td>\n",
       "      <td>0</td>\n",
       "      <td>0</td>\n",
       "      <td>...</td>\n",
       "      <td>14331</td>\n",
       "      <td>14948</td>\n",
       "      <td>15549</td>\n",
       "      <td>1518</td>\n",
       "      <td>1500</td>\n",
       "      <td>1000</td>\n",
       "      <td>1000</td>\n",
       "      <td>1000</td>\n",
       "      <td>5000</td>\n",
       "      <td>0</td>\n",
       "    </tr>\n",
       "    <tr>\n",
       "      <th>3</th>\n",
       "      <td>4</td>\n",
       "      <td>50000</td>\n",
       "      <td>2</td>\n",
       "      <td>2</td>\n",
       "      <td>1</td>\n",
       "      <td>37</td>\n",
       "      <td>0</td>\n",
       "      <td>0</td>\n",
       "      <td>0</td>\n",
       "      <td>0</td>\n",
       "      <td>...</td>\n",
       "      <td>28314</td>\n",
       "      <td>28959</td>\n",
       "      <td>29547</td>\n",
       "      <td>2000</td>\n",
       "      <td>2019</td>\n",
       "      <td>1200</td>\n",
       "      <td>1100</td>\n",
       "      <td>1069</td>\n",
       "      <td>1000</td>\n",
       "      <td>0</td>\n",
       "    </tr>\n",
       "    <tr>\n",
       "      <th>4</th>\n",
       "      <td>5</td>\n",
       "      <td>50000</td>\n",
       "      <td>1</td>\n",
       "      <td>2</td>\n",
       "      <td>1</td>\n",
       "      <td>57</td>\n",
       "      <td>-1</td>\n",
       "      <td>0</td>\n",
       "      <td>-1</td>\n",
       "      <td>0</td>\n",
       "      <td>...</td>\n",
       "      <td>20940</td>\n",
       "      <td>19146</td>\n",
       "      <td>19131</td>\n",
       "      <td>2000</td>\n",
       "      <td>36681</td>\n",
       "      <td>10000</td>\n",
       "      <td>9000</td>\n",
       "      <td>689</td>\n",
       "      <td>679</td>\n",
       "      <td>0</td>\n",
       "    </tr>\n",
       "  </tbody>\n",
       "</table>\n",
       "<p>5 rows × 25 columns</p>\n",
       "</div>"
      ],
      "text/plain": [
       "   ID  LIMIT_BAL  SEX  EDUCATION  MARRIAGE  AGE  PAY_0  PAY_2  PAY_3  PAY_4  \\\n",
       "0   1      20000    2          2         1   24      2      2     -1     -1   \n",
       "1   2     120000    2          2         2   26     -1      2      0      0   \n",
       "2   3      90000    2          2         2   34      0      0      0      0   \n",
       "3   4      50000    2          2         1   37      0      0      0      0   \n",
       "4   5      50000    1          2         1   57     -1      0     -1      0   \n",
       "\n",
       "              ...              BILL_AMT4  BILL_AMT5  BILL_AMT6  PAY_AMT1  \\\n",
       "0             ...                      0          0          0         0   \n",
       "1             ...                   3272       3455       3261         0   \n",
       "2             ...                  14331      14948      15549      1518   \n",
       "3             ...                  28314      28959      29547      2000   \n",
       "4             ...                  20940      19146      19131      2000   \n",
       "\n",
       "   PAY_AMT2  PAY_AMT3  PAY_AMT4  PAY_AMT5  PAY_AMT6  \\\n",
       "0       689         0         0         0         0   \n",
       "1      1000      1000      1000         0      2000   \n",
       "2      1500      1000      1000      1000      5000   \n",
       "3      2019      1200      1100      1069      1000   \n",
       "4     36681     10000      9000       689       679   \n",
       "\n",
       "   default payment next month  \n",
       "0                           1  \n",
       "1                           1  \n",
       "2                           0  \n",
       "3                           0  \n",
       "4                           0  \n",
       "\n",
       "[5 rows x 25 columns]"
      ]
     },
     "execution_count": 1236,
     "metadata": {},
     "output_type": "execute_result"
    }
   ],
   "source": [
    "dfc = pd.read_csv('default of credit card clients.csv', sep=\";\", skiprows=1) #skipprows salta fila que no agrega valor.\n",
    "\n",
    "dfc.head()"
   ]
  },
  {
   "cell_type": "markdown",
   "metadata": {},
   "source": [
    "# Limpieza de la información"
   ]
  },
  {
   "cell_type": "markdown",
   "metadata": {},
   "source": [
    "En el conjunto de datos, se evidencia que:\n",
    "\n",
    "- Se omite una columna PAY_1. Suponemos que PAY_0 es en realidad PAY_1.\n",
    "- La variable objetivo tiene un nombre muy largo se cambia el nombre default payment next month por Pred_pay.\n",
    "- La columna ID no agrega valor al análisis, por lo que procedemos a eliminarla.\n",
    "- Las variables están en mayuscula, por facilidad se convierten a minusculas.\n"
   ]
  },
  {
   "cell_type": "code",
   "execution_count": 1237,
   "metadata": {
    "collapsed": false
   },
   "outputs": [
    {
     "data": {
      "text/html": [
       "<div>\n",
       "<table border=\"1\" class=\"dataframe\">\n",
       "  <thead>\n",
       "    <tr style=\"text-align: right;\">\n",
       "      <th></th>\n",
       "      <th>limit_bal</th>\n",
       "      <th>sex</th>\n",
       "      <th>education</th>\n",
       "      <th>marriage</th>\n",
       "      <th>age</th>\n",
       "      <th>pay_1</th>\n",
       "      <th>pay_2</th>\n",
       "      <th>pay_3</th>\n",
       "      <th>pay_4</th>\n",
       "      <th>pay_5</th>\n",
       "      <th>...</th>\n",
       "      <th>bill_amt4</th>\n",
       "      <th>bill_amt5</th>\n",
       "      <th>bill_amt6</th>\n",
       "      <th>pay_amt1</th>\n",
       "      <th>pay_amt2</th>\n",
       "      <th>pay_amt3</th>\n",
       "      <th>pay_amt4</th>\n",
       "      <th>pay_amt5</th>\n",
       "      <th>pay_amt6</th>\n",
       "      <th>pred_pay</th>\n",
       "    </tr>\n",
       "  </thead>\n",
       "  <tbody>\n",
       "    <tr>\n",
       "      <th>0</th>\n",
       "      <td>20000</td>\n",
       "      <td>2</td>\n",
       "      <td>2</td>\n",
       "      <td>1</td>\n",
       "      <td>24</td>\n",
       "      <td>2</td>\n",
       "      <td>2</td>\n",
       "      <td>-1</td>\n",
       "      <td>-1</td>\n",
       "      <td>-2</td>\n",
       "      <td>...</td>\n",
       "      <td>0</td>\n",
       "      <td>0</td>\n",
       "      <td>0</td>\n",
       "      <td>0</td>\n",
       "      <td>689</td>\n",
       "      <td>0</td>\n",
       "      <td>0</td>\n",
       "      <td>0</td>\n",
       "      <td>0</td>\n",
       "      <td>1</td>\n",
       "    </tr>\n",
       "    <tr>\n",
       "      <th>1</th>\n",
       "      <td>120000</td>\n",
       "      <td>2</td>\n",
       "      <td>2</td>\n",
       "      <td>2</td>\n",
       "      <td>26</td>\n",
       "      <td>-1</td>\n",
       "      <td>2</td>\n",
       "      <td>0</td>\n",
       "      <td>0</td>\n",
       "      <td>0</td>\n",
       "      <td>...</td>\n",
       "      <td>3272</td>\n",
       "      <td>3455</td>\n",
       "      <td>3261</td>\n",
       "      <td>0</td>\n",
       "      <td>1000</td>\n",
       "      <td>1000</td>\n",
       "      <td>1000</td>\n",
       "      <td>0</td>\n",
       "      <td>2000</td>\n",
       "      <td>1</td>\n",
       "    </tr>\n",
       "    <tr>\n",
       "      <th>2</th>\n",
       "      <td>90000</td>\n",
       "      <td>2</td>\n",
       "      <td>2</td>\n",
       "      <td>2</td>\n",
       "      <td>34</td>\n",
       "      <td>0</td>\n",
       "      <td>0</td>\n",
       "      <td>0</td>\n",
       "      <td>0</td>\n",
       "      <td>0</td>\n",
       "      <td>...</td>\n",
       "      <td>14331</td>\n",
       "      <td>14948</td>\n",
       "      <td>15549</td>\n",
       "      <td>1518</td>\n",
       "      <td>1500</td>\n",
       "      <td>1000</td>\n",
       "      <td>1000</td>\n",
       "      <td>1000</td>\n",
       "      <td>5000</td>\n",
       "      <td>0</td>\n",
       "    </tr>\n",
       "    <tr>\n",
       "      <th>3</th>\n",
       "      <td>50000</td>\n",
       "      <td>2</td>\n",
       "      <td>2</td>\n",
       "      <td>1</td>\n",
       "      <td>37</td>\n",
       "      <td>0</td>\n",
       "      <td>0</td>\n",
       "      <td>0</td>\n",
       "      <td>0</td>\n",
       "      <td>0</td>\n",
       "      <td>...</td>\n",
       "      <td>28314</td>\n",
       "      <td>28959</td>\n",
       "      <td>29547</td>\n",
       "      <td>2000</td>\n",
       "      <td>2019</td>\n",
       "      <td>1200</td>\n",
       "      <td>1100</td>\n",
       "      <td>1069</td>\n",
       "      <td>1000</td>\n",
       "      <td>0</td>\n",
       "    </tr>\n",
       "    <tr>\n",
       "      <th>4</th>\n",
       "      <td>50000</td>\n",
       "      <td>1</td>\n",
       "      <td>2</td>\n",
       "      <td>1</td>\n",
       "      <td>57</td>\n",
       "      <td>-1</td>\n",
       "      <td>0</td>\n",
       "      <td>-1</td>\n",
       "      <td>0</td>\n",
       "      <td>0</td>\n",
       "      <td>...</td>\n",
       "      <td>20940</td>\n",
       "      <td>19146</td>\n",
       "      <td>19131</td>\n",
       "      <td>2000</td>\n",
       "      <td>36681</td>\n",
       "      <td>10000</td>\n",
       "      <td>9000</td>\n",
       "      <td>689</td>\n",
       "      <td>679</td>\n",
       "      <td>0</td>\n",
       "    </tr>\n",
       "  </tbody>\n",
       "</table>\n",
       "<p>5 rows × 24 columns</p>\n",
       "</div>"
      ],
      "text/plain": [
       "   limit_bal  sex  education  marriage  age  pay_1  pay_2  pay_3  pay_4  \\\n",
       "0      20000    2          2         1   24      2      2     -1     -1   \n",
       "1     120000    2          2         2   26     -1      2      0      0   \n",
       "2      90000    2          2         2   34      0      0      0      0   \n",
       "3      50000    2          2         1   37      0      0      0      0   \n",
       "4      50000    1          2         1   57     -1      0     -1      0   \n",
       "\n",
       "   pay_5    ...     bill_amt4  bill_amt5  bill_amt6  pay_amt1  pay_amt2  \\\n",
       "0     -2    ...             0          0          0         0       689   \n",
       "1      0    ...          3272       3455       3261         0      1000   \n",
       "2      0    ...         14331      14948      15549      1518      1500   \n",
       "3      0    ...         28314      28959      29547      2000      2019   \n",
       "4      0    ...         20940      19146      19131      2000     36681   \n",
       "\n",
       "   pay_amt3  pay_amt4  pay_amt5  pay_amt6  pred_pay  \n",
       "0         0         0         0         0         1  \n",
       "1      1000      1000         0      2000         1  \n",
       "2      1000      1000      1000      5000         0  \n",
       "3      1200      1100      1069      1000         0  \n",
       "4     10000      9000       689       679         0  \n",
       "\n",
       "[5 rows x 24 columns]"
      ]
     },
     "execution_count": 1237,
     "metadata": {},
     "output_type": "execute_result"
    }
   ],
   "source": [
    "dfc = dfc.rename(columns={'PAY_0': 'PAY_1', 'default payment next month': 'Pred_pay'})\n",
    "dfc = dfc.drop('ID', axis=1)\n",
    "dfc.columns = [x.lower() for x in dfc.columns]\n",
    "\n",
    "dfc.head()"
   ]
  },
  {
   "cell_type": "markdown",
   "metadata": {},
   "source": [
    "# 2. DESCRIPCIÓN DE LOS DATOS"
   ]
  },
  {
   "cell_type": "code",
   "execution_count": 1238,
   "metadata": {
    "collapsed": false
   },
   "outputs": [
    {
     "name": "stdout",
     "output_type": "stream",
     "text": [
      "<class 'pandas.core.frame.DataFrame'>\n",
      "RangeIndex: 30000 entries, 0 to 29999\n",
      "Data columns (total 24 columns):\n",
      "limit_bal    30000 non-null int64\n",
      "sex          30000 non-null int64\n",
      "education    30000 non-null int64\n",
      "marriage     30000 non-null int64\n",
      "age          30000 non-null int64\n",
      "pay_1        30000 non-null int64\n",
      "pay_2        30000 non-null int64\n",
      "pay_3        30000 non-null int64\n",
      "pay_4        30000 non-null int64\n",
      "pay_5        30000 non-null int64\n",
      "pay_6        30000 non-null int64\n",
      "bill_amt1    30000 non-null int64\n",
      "bill_amt2    30000 non-null int64\n",
      "bill_amt3    30000 non-null int64\n",
      "bill_amt4    30000 non-null int64\n",
      "bill_amt5    30000 non-null int64\n",
      "bill_amt6    30000 non-null int64\n",
      "pay_amt1     30000 non-null int64\n",
      "pay_amt2     30000 non-null int64\n",
      "pay_amt3     30000 non-null int64\n",
      "pay_amt4     30000 non-null int64\n",
      "pay_amt5     30000 non-null int64\n",
      "pay_amt6     30000 non-null int64\n",
      "pred_pay     30000 non-null int64\n",
      "dtypes: int64(24)\n",
      "memory usage: 5.5 MB\n"
     ]
    }
   ],
   "source": [
    "#Inspección general:\n",
    "dfc.info() "
   ]
  },
  {
   "cell_type": "markdown",
   "metadata": {},
   "source": [
    "Se analizan la información general de los datos y se concluye que:\n",
    "\n",
    "- El conjunto de datos contiene 30000 Ejemplos cada uno con 24 variables.\n",
    "- Aunque hay variables con naturaleza categorica, se encuentran numerizadas.\n",
    "- El data Set no contiene datos nulos.\n",
    "- Todas las variables son numeros enteros."
   ]
  },
  {
   "cell_type": "code",
   "execution_count": 1239,
   "metadata": {
    "collapsed": false
   },
   "outputs": [
    {
     "data": {
      "text/html": [
       "<div>\n",
       "<table border=\"1\" class=\"dataframe\">\n",
       "  <thead>\n",
       "    <tr style=\"text-align: right;\">\n",
       "      <th></th>\n",
       "      <th>count</th>\n",
       "      <th>mean</th>\n",
       "      <th>std</th>\n",
       "      <th>min</th>\n",
       "      <th>25%</th>\n",
       "      <th>50%</th>\n",
       "      <th>75%</th>\n",
       "      <th>max</th>\n",
       "    </tr>\n",
       "  </thead>\n",
       "  <tbody>\n",
       "    <tr>\n",
       "      <th>limit_bal</th>\n",
       "      <td>30000.0</td>\n",
       "      <td>167484.322667</td>\n",
       "      <td>129747.661567</td>\n",
       "      <td>10000.0</td>\n",
       "      <td>50000.00</td>\n",
       "      <td>140000.0</td>\n",
       "      <td>240000.00</td>\n",
       "      <td>1000000.0</td>\n",
       "    </tr>\n",
       "    <tr>\n",
       "      <th>sex</th>\n",
       "      <td>30000.0</td>\n",
       "      <td>1.603733</td>\n",
       "      <td>0.489129</td>\n",
       "      <td>1.0</td>\n",
       "      <td>1.00</td>\n",
       "      <td>2.0</td>\n",
       "      <td>2.00</td>\n",
       "      <td>2.0</td>\n",
       "    </tr>\n",
       "    <tr>\n",
       "      <th>education</th>\n",
       "      <td>30000.0</td>\n",
       "      <td>1.853133</td>\n",
       "      <td>0.790349</td>\n",
       "      <td>0.0</td>\n",
       "      <td>1.00</td>\n",
       "      <td>2.0</td>\n",
       "      <td>2.00</td>\n",
       "      <td>6.0</td>\n",
       "    </tr>\n",
       "    <tr>\n",
       "      <th>marriage</th>\n",
       "      <td>30000.0</td>\n",
       "      <td>1.551867</td>\n",
       "      <td>0.521970</td>\n",
       "      <td>0.0</td>\n",
       "      <td>1.00</td>\n",
       "      <td>2.0</td>\n",
       "      <td>2.00</td>\n",
       "      <td>3.0</td>\n",
       "    </tr>\n",
       "    <tr>\n",
       "      <th>age</th>\n",
       "      <td>30000.0</td>\n",
       "      <td>35.485500</td>\n",
       "      <td>9.217904</td>\n",
       "      <td>21.0</td>\n",
       "      <td>28.00</td>\n",
       "      <td>34.0</td>\n",
       "      <td>41.00</td>\n",
       "      <td>79.0</td>\n",
       "    </tr>\n",
       "    <tr>\n",
       "      <th>pay_1</th>\n",
       "      <td>30000.0</td>\n",
       "      <td>-0.016700</td>\n",
       "      <td>1.123802</td>\n",
       "      <td>-2.0</td>\n",
       "      <td>-1.00</td>\n",
       "      <td>0.0</td>\n",
       "      <td>0.00</td>\n",
       "      <td>8.0</td>\n",
       "    </tr>\n",
       "    <tr>\n",
       "      <th>pay_2</th>\n",
       "      <td>30000.0</td>\n",
       "      <td>-0.133767</td>\n",
       "      <td>1.197186</td>\n",
       "      <td>-2.0</td>\n",
       "      <td>-1.00</td>\n",
       "      <td>0.0</td>\n",
       "      <td>0.00</td>\n",
       "      <td>8.0</td>\n",
       "    </tr>\n",
       "    <tr>\n",
       "      <th>pay_3</th>\n",
       "      <td>30000.0</td>\n",
       "      <td>-0.166200</td>\n",
       "      <td>1.196868</td>\n",
       "      <td>-2.0</td>\n",
       "      <td>-1.00</td>\n",
       "      <td>0.0</td>\n",
       "      <td>0.00</td>\n",
       "      <td>8.0</td>\n",
       "    </tr>\n",
       "    <tr>\n",
       "      <th>pay_4</th>\n",
       "      <td>30000.0</td>\n",
       "      <td>-0.220667</td>\n",
       "      <td>1.169139</td>\n",
       "      <td>-2.0</td>\n",
       "      <td>-1.00</td>\n",
       "      <td>0.0</td>\n",
       "      <td>0.00</td>\n",
       "      <td>8.0</td>\n",
       "    </tr>\n",
       "    <tr>\n",
       "      <th>pay_5</th>\n",
       "      <td>30000.0</td>\n",
       "      <td>-0.266200</td>\n",
       "      <td>1.133187</td>\n",
       "      <td>-2.0</td>\n",
       "      <td>-1.00</td>\n",
       "      <td>0.0</td>\n",
       "      <td>0.00</td>\n",
       "      <td>8.0</td>\n",
       "    </tr>\n",
       "    <tr>\n",
       "      <th>pay_6</th>\n",
       "      <td>30000.0</td>\n",
       "      <td>-0.291100</td>\n",
       "      <td>1.149988</td>\n",
       "      <td>-2.0</td>\n",
       "      <td>-1.00</td>\n",
       "      <td>0.0</td>\n",
       "      <td>0.00</td>\n",
       "      <td>8.0</td>\n",
       "    </tr>\n",
       "    <tr>\n",
       "      <th>bill_amt1</th>\n",
       "      <td>30000.0</td>\n",
       "      <td>51223.330900</td>\n",
       "      <td>73635.860576</td>\n",
       "      <td>-165580.0</td>\n",
       "      <td>3558.75</td>\n",
       "      <td>22381.5</td>\n",
       "      <td>67091.00</td>\n",
       "      <td>964511.0</td>\n",
       "    </tr>\n",
       "    <tr>\n",
       "      <th>bill_amt2</th>\n",
       "      <td>30000.0</td>\n",
       "      <td>49179.075167</td>\n",
       "      <td>71173.768783</td>\n",
       "      <td>-69777.0</td>\n",
       "      <td>2984.75</td>\n",
       "      <td>21200.0</td>\n",
       "      <td>64006.25</td>\n",
       "      <td>983931.0</td>\n",
       "    </tr>\n",
       "    <tr>\n",
       "      <th>bill_amt3</th>\n",
       "      <td>30000.0</td>\n",
       "      <td>47013.154800</td>\n",
       "      <td>69349.387427</td>\n",
       "      <td>-157264.0</td>\n",
       "      <td>2666.25</td>\n",
       "      <td>20088.5</td>\n",
       "      <td>60164.75</td>\n",
       "      <td>1664089.0</td>\n",
       "    </tr>\n",
       "    <tr>\n",
       "      <th>bill_amt4</th>\n",
       "      <td>30000.0</td>\n",
       "      <td>43262.948967</td>\n",
       "      <td>64332.856134</td>\n",
       "      <td>-170000.0</td>\n",
       "      <td>2326.75</td>\n",
       "      <td>19052.0</td>\n",
       "      <td>54506.00</td>\n",
       "      <td>891586.0</td>\n",
       "    </tr>\n",
       "    <tr>\n",
       "      <th>bill_amt5</th>\n",
       "      <td>30000.0</td>\n",
       "      <td>40311.400967</td>\n",
       "      <td>60797.155770</td>\n",
       "      <td>-81334.0</td>\n",
       "      <td>1763.00</td>\n",
       "      <td>18104.5</td>\n",
       "      <td>50190.50</td>\n",
       "      <td>927171.0</td>\n",
       "    </tr>\n",
       "    <tr>\n",
       "      <th>bill_amt6</th>\n",
       "      <td>30000.0</td>\n",
       "      <td>38871.760400</td>\n",
       "      <td>59554.107537</td>\n",
       "      <td>-339603.0</td>\n",
       "      <td>1256.00</td>\n",
       "      <td>17071.0</td>\n",
       "      <td>49198.25</td>\n",
       "      <td>961664.0</td>\n",
       "    </tr>\n",
       "    <tr>\n",
       "      <th>pay_amt1</th>\n",
       "      <td>30000.0</td>\n",
       "      <td>5663.580500</td>\n",
       "      <td>16563.280354</td>\n",
       "      <td>0.0</td>\n",
       "      <td>1000.00</td>\n",
       "      <td>2100.0</td>\n",
       "      <td>5006.00</td>\n",
       "      <td>873552.0</td>\n",
       "    </tr>\n",
       "    <tr>\n",
       "      <th>pay_amt2</th>\n",
       "      <td>30000.0</td>\n",
       "      <td>5921.163500</td>\n",
       "      <td>23040.870402</td>\n",
       "      <td>0.0</td>\n",
       "      <td>833.00</td>\n",
       "      <td>2009.0</td>\n",
       "      <td>5000.00</td>\n",
       "      <td>1684259.0</td>\n",
       "    </tr>\n",
       "    <tr>\n",
       "      <th>pay_amt3</th>\n",
       "      <td>30000.0</td>\n",
       "      <td>5225.681500</td>\n",
       "      <td>17606.961470</td>\n",
       "      <td>0.0</td>\n",
       "      <td>390.00</td>\n",
       "      <td>1800.0</td>\n",
       "      <td>4505.00</td>\n",
       "      <td>896040.0</td>\n",
       "    </tr>\n",
       "    <tr>\n",
       "      <th>pay_amt4</th>\n",
       "      <td>30000.0</td>\n",
       "      <td>4826.076867</td>\n",
       "      <td>15666.159744</td>\n",
       "      <td>0.0</td>\n",
       "      <td>296.00</td>\n",
       "      <td>1500.0</td>\n",
       "      <td>4013.25</td>\n",
       "      <td>621000.0</td>\n",
       "    </tr>\n",
       "    <tr>\n",
       "      <th>pay_amt5</th>\n",
       "      <td>30000.0</td>\n",
       "      <td>4799.387633</td>\n",
       "      <td>15278.305679</td>\n",
       "      <td>0.0</td>\n",
       "      <td>252.50</td>\n",
       "      <td>1500.0</td>\n",
       "      <td>4031.50</td>\n",
       "      <td>426529.0</td>\n",
       "    </tr>\n",
       "    <tr>\n",
       "      <th>pay_amt6</th>\n",
       "      <td>30000.0</td>\n",
       "      <td>5215.502567</td>\n",
       "      <td>17777.465775</td>\n",
       "      <td>0.0</td>\n",
       "      <td>117.75</td>\n",
       "      <td>1500.0</td>\n",
       "      <td>4000.00</td>\n",
       "      <td>528666.0</td>\n",
       "    </tr>\n",
       "    <tr>\n",
       "      <th>pred_pay</th>\n",
       "      <td>30000.0</td>\n",
       "      <td>0.221200</td>\n",
       "      <td>0.415062</td>\n",
       "      <td>0.0</td>\n",
       "      <td>0.00</td>\n",
       "      <td>0.0</td>\n",
       "      <td>0.00</td>\n",
       "      <td>1.0</td>\n",
       "    </tr>\n",
       "  </tbody>\n",
       "</table>\n",
       "</div>"
      ],
      "text/plain": [
       "             count           mean            std       min       25%  \\\n",
       "limit_bal  30000.0  167484.322667  129747.661567   10000.0  50000.00   \n",
       "sex        30000.0       1.603733       0.489129       1.0      1.00   \n",
       "education  30000.0       1.853133       0.790349       0.0      1.00   \n",
       "marriage   30000.0       1.551867       0.521970       0.0      1.00   \n",
       "age        30000.0      35.485500       9.217904      21.0     28.00   \n",
       "pay_1      30000.0      -0.016700       1.123802      -2.0     -1.00   \n",
       "pay_2      30000.0      -0.133767       1.197186      -2.0     -1.00   \n",
       "pay_3      30000.0      -0.166200       1.196868      -2.0     -1.00   \n",
       "pay_4      30000.0      -0.220667       1.169139      -2.0     -1.00   \n",
       "pay_5      30000.0      -0.266200       1.133187      -2.0     -1.00   \n",
       "pay_6      30000.0      -0.291100       1.149988      -2.0     -1.00   \n",
       "bill_amt1  30000.0   51223.330900   73635.860576 -165580.0   3558.75   \n",
       "bill_amt2  30000.0   49179.075167   71173.768783  -69777.0   2984.75   \n",
       "bill_amt3  30000.0   47013.154800   69349.387427 -157264.0   2666.25   \n",
       "bill_amt4  30000.0   43262.948967   64332.856134 -170000.0   2326.75   \n",
       "bill_amt5  30000.0   40311.400967   60797.155770  -81334.0   1763.00   \n",
       "bill_amt6  30000.0   38871.760400   59554.107537 -339603.0   1256.00   \n",
       "pay_amt1   30000.0    5663.580500   16563.280354       0.0   1000.00   \n",
       "pay_amt2   30000.0    5921.163500   23040.870402       0.0    833.00   \n",
       "pay_amt3   30000.0    5225.681500   17606.961470       0.0    390.00   \n",
       "pay_amt4   30000.0    4826.076867   15666.159744       0.0    296.00   \n",
       "pay_amt5   30000.0    4799.387633   15278.305679       0.0    252.50   \n",
       "pay_amt6   30000.0    5215.502567   17777.465775       0.0    117.75   \n",
       "pred_pay   30000.0       0.221200       0.415062       0.0      0.00   \n",
       "\n",
       "                50%        75%        max  \n",
       "limit_bal  140000.0  240000.00  1000000.0  \n",
       "sex             2.0       2.00        2.0  \n",
       "education       2.0       2.00        6.0  \n",
       "marriage        2.0       2.00        3.0  \n",
       "age            34.0      41.00       79.0  \n",
       "pay_1           0.0       0.00        8.0  \n",
       "pay_2           0.0       0.00        8.0  \n",
       "pay_3           0.0       0.00        8.0  \n",
       "pay_4           0.0       0.00        8.0  \n",
       "pay_5           0.0       0.00        8.0  \n",
       "pay_6           0.0       0.00        8.0  \n",
       "bill_amt1   22381.5   67091.00   964511.0  \n",
       "bill_amt2   21200.0   64006.25   983931.0  \n",
       "bill_amt3   20088.5   60164.75  1664089.0  \n",
       "bill_amt4   19052.0   54506.00   891586.0  \n",
       "bill_amt5   18104.5   50190.50   927171.0  \n",
       "bill_amt6   17071.0   49198.25   961664.0  \n",
       "pay_amt1     2100.0    5006.00   873552.0  \n",
       "pay_amt2     2009.0    5000.00  1684259.0  \n",
       "pay_amt3     1800.0    4505.00   896040.0  \n",
       "pay_amt4     1500.0    4013.25   621000.0  \n",
       "pay_amt5     1500.0    4031.50   426529.0  \n",
       "pay_amt6     1500.0    4000.00   528666.0  \n",
       "pred_pay        0.0       0.00        1.0  "
      ]
     },
     "execution_count": 1239,
     "metadata": {},
     "output_type": "execute_result"
    }
   ],
   "source": [
    "dfc.describe().transpose()"
   ]
  },
  {
   "cell_type": "markdown",
   "metadata": {},
   "source": [
    "Para facilitar el entendimiento de la exploración descriptiva, pondremos etiquetas a las variables categoricas:"
   ]
  },
  {
   "cell_type": "code",
   "execution_count": 1240,
   "metadata": {
    "collapsed": true
   },
   "outputs": [],
   "source": [
    "#converción a categoricas:\n",
    "dfc['sex'] = dfc['sex'].astype('category').cat.rename_categories(['Hombre', 'Mujer'])\n",
    "dfc['marriage'] = dfc['marriage'].astype('category').cat.rename_categories(['na', 'married', 'single', 'other'])\n",
    "dfc['age_cat'] = pd.cut(dfc['age'], range(0, 100, 10), right=False)\n",
    "#dfc['pred_pay'] = dfc['pred_pay'].astype('category').cat.rename_categories(['Cumple', 'Incumple'])"
   ]
  },
  {
   "cell_type": "code",
   "execution_count": 1241,
   "metadata": {
    "collapsed": false
   },
   "outputs": [
    {
     "name": "stdout",
     "output_type": "stream",
     "text": [
      "Variables exploratorias:  24\n",
      "Variable Objetivo:       pred_pay\n",
      "Porcentaje de cumplimiento: 77.9% \n"
     ]
    },
    {
     "data": {
      "image/png": "[encoded data removed]",
      "text/plain": [
       "<matplotlib.figure.Figure at 0x9c055a8a90>"
      ]
     },
     "metadata": {},
     "output_type": "display_data"
    }
   ],
   "source": [
    "#Definición de variables de entrada y salida de los modelos\n",
    "print(\"Variables exploratorias:  {}\".format(len(dfc.columns)-1))\n",
    "print(\"Variable Objetivo:       pred_pay\")\n",
    "\n",
    "\n",
    "#Predicción ingeninua\n",
    "Cump = 100*round(1 - (dfc.pred_pay.sum() / len(dfc.pred_pay)),3)\n",
    "\n",
    "dfc['pred_pay'] = dfc['pred_pay'].astype('category').cat.rename_categories(['Cumple', 'No Cumple'])\n",
    "\n",
    "m = dfc.groupby(['pred_pay']).size()\n",
    "p = m.plot(kind='barh', color='blue')\n",
    "\n",
    "print(\"Porcentaje de cumplimiento: {}% \".format(Cump))"
   ]
  },
  {
   "cell_type": "code",
   "execution_count": 1242,
   "metadata": {
    "collapsed": false
   },
   "outputs": [
    {
     "data": {
      "text/plain": [
       "<matplotlib.axes._subplots.AxesSubplot at 0x9bc06809e8>"
      ]
     },
     "execution_count": 1242,
     "metadata": {},
     "output_type": "execute_result"
    },
    {
     "data": {
      "image/png": "[encoded data removed]",
      "text/plain": [
       "<matplotlib.figure.Figure at 0x9c05fca240>"
      ]
     },
     "metadata": {},
     "output_type": "display_data"
    }
   ],
   "source": [
    "ed = dfc.groupby(['sex', 'pred_pay']).size().unstack()\n",
    "ed.plot(kind = 'bar', stacked = True)"
   ]
  },
  {
   "cell_type": "code",
   "execution_count": 1243,
   "metadata": {
    "collapsed": false
   },
   "outputs": [
    {
     "data": {
      "text/plain": [
       "<matplotlib.axes._subplots.AxesSubplot at 0x9c06093828>"
      ]
     },
     "execution_count": 1243,
     "metadata": {},
     "output_type": "execute_result"
    },
    {
     "data": {
      "image/png": "[encoded data removed]",
      "text/plain": [
       "<matplotlib.figure.Figure at 0x9c0598b2b0>"
      ]
     },
     "metadata": {},
     "output_type": "display_data"
    }
   ],
   "source": [
    "ed = dfc.groupby(['education', 'pred_pay']).size().unstack()\n",
    "ed.plot(kind = 'bar', stacked = True)"
   ]
  },
  {
   "cell_type": "code",
   "execution_count": 1244,
   "metadata": {
    "collapsed": false
   },
   "outputs": [
    {
     "data": {
      "image/png": "[encoded data removed]",
      "text/plain": [
       "<matplotlib.figure.Figure at 0x9bbbef55c0>"
      ]
     },
     "metadata": {},
     "output_type": "display_data"
    }
   ],
   "source": [
    "# Revisando graficamente el estado de cuenta en los meses previos:\n",
    "reco = re.compile(\"^pay_[0-9]+$\")\n",
    "estado_pagos = [ x for x in dfc.columns if (reco.match(x))]\n",
    "\n",
    "fig, ax = plt.subplots(2,3)\n",
    "fig.set_size_inches(15,5)\n",
    "fig.suptitle('Distribución de los días de atraso para los 6 meses')\n",
    "\n",
    "for i in range(len(estado_pagos)):\n",
    "    row,col = int(i/3), i%3\n",
    "\n",
    "    d  = dfc[estado_pagos[i]].value_counts()\n",
    "    ax[row,col].bar(d.index, d, align='center', color='g')\n",
    "    ax[row,col].set_title(estado_pagos[i])\n",
    "\n",
    "plt.tight_layout(pad=3.0, w_pad=0.5, h_pad=1.0)\n",
    "plt.show()"
   ]
  },
  {
   "cell_type": "markdown",
   "metadata": {},
   "source": [
    "Se evidencia en los gráficos que: \n",
    "- Hay clientes con 1 ó 2 cuotas adelantadas.\n",
    "- La mayoría pagan en el mes establecido de la cuota. \n",
    "- Hay clientes con atrasos de 2 meses principalmente."
   ]
  },
  {
   "cell_type": "code",
   "execution_count": 1245,
   "metadata": {
    "collapsed": false
   },
   "outputs": [
    {
     "data": {
      "image/png": "[encoded data removed]",
      "text/plain": [
       "<matplotlib.figure.Figure at 0x9b82f4f7b8>"
      ]
     },
     "metadata": {},
     "output_type": "display_data"
    }
   ],
   "source": [
    "# Cantidad de dinero prestada\n",
    "fig = plt.figure()\n",
    "fig.set_size_inches(20,5)\n",
    "ax = fig.add_subplot(111)\n",
    "\n",
    "d = dfc.groupby(['limit_bal']).size()\n",
    "ax.set_yscale(\"log\")\n",
    "ax.set_xticks(np.arange(len(d)))\n",
    "ax.set_xticklabels(['%d' % i for i in d.index], rotation='vertical')\n",
    "p = ax.bar(np.arange(len(d)), d, color='blue')"
   ]
  },
  {
   "cell_type": "markdown",
   "metadata": {},
   "source": [
    "Con el fin de analizar graficamente la influencia entre las variables categoricas sobre la variable objetivo, revisemos los siguientes histogramas:"
   ]
  },
  {
   "cell_type": "code",
   "execution_count": 1246,
   "metadata": {
    "collapsed": false
   },
   "outputs": [
    {
     "data": {
      "image/png": "[encoded data removed]",
      "text/plain": [
       "<matplotlib.figure.Figure at 0x9bb8a74eb8>"
      ]
     },
     "metadata": {},
     "output_type": "display_data"
    }
   ],
   "source": [
    "\n",
    "fig, ax = plt.subplots(1,4)\n",
    "fig.set_size_inches(20,5)\n",
    "fig.suptitle('Estadisticas Absolutas')                   \n",
    "                    \n",
    "m = dfc.groupby(['pred_pay', 'sex']).size()\n",
    "n = m.unstack(level=1).plot(kind='bar', ax=ax[0])\n",
    "m = dfc.groupby(['pred_pay', 'marriage']).size()\n",
    "n = m.unstack(level=1).plot(kind='bar', ax=ax[1])\n",
    "m = dfc.groupby(['pred_pay', 'education']).size()\n",
    "n = m.unstack(level=1).plot(kind='bar', ax=ax[2])\n",
    "m = dfc.groupby(['pred_pay', 'age_cat']).size()\n",
    "n = m.unstack(level=1).plot(kind='bar', ax=ax[3])\n",
    "\n"
   ]
  },
  {
   "cell_type": "code",
   "execution_count": 1247,
   "metadata": {
    "collapsed": false
   },
   "outputs": [
    {
     "data": {
      "image/png": "[encoded data removed]",
      "text/plain": [
       "<matplotlib.figure.Figure at 0x9bb8b0e160>"
      ]
     },
     "metadata": {},
     "output_type": "display_data"
    }
   ],
   "source": [
    "fig, ax = plt.subplots(1,4)\n",
    "fig.set_size_inches(20,5)\n",
    "fig.suptitle('Estadisticas Relativas')                  \n",
    "                    \n",
    "m = dfc.groupby(['pred_pay', 'sex']).size()\n",
    "m = m / m.sum()\n",
    "n = m.unstack(level=1).plot(kind='bar', ax=ax[0])\n",
    "m = dfc.groupby(['pred_pay', 'marriage']).size()\n",
    "m = m / m.sum()\n",
    "n = m.unstack(level=1).plot(kind='bar', ax=ax[1])\n",
    "m = dfc.groupby(['pred_pay', 'education']).size()\n",
    "m = m / m.sum()\n",
    "n = m.unstack(level=1).plot(kind='bar', ax=ax[2])\n",
    "m = dfc.groupby(['pred_pay', 'age_cat']).size()\n",
    "m = m / m.sum()\n",
    "n = m.unstack(level=1).plot(kind='bar', ax=ax[3])"
   ]
  },
  {
   "cell_type": "code",
   "execution_count": 1248,
   "metadata": {
    "collapsed": false
   },
   "outputs": [
    {
     "data": {
      "text/plain": [
       "<matplotlib.axes._subplots.AxesSubplot at 0x9b9f8360b8>"
      ]
     },
     "execution_count": 1248,
     "metadata": {},
     "output_type": "execute_result"
    },
    {
     "data": {
      "image/png": "[encoded data removed]",
      "text/plain": [
       "<matplotlib.figure.Figure at 0x9b8553d2b0>"
      ]
     },
     "metadata": {},
     "output_type": "display_data"
    }
   ],
   "source": [
    "sns.boxplot(x=\"marriage\", y=\"limit_bal\", data=dfc)"
   ]
  },
  {
   "cell_type": "code",
   "execution_count": 1249,
   "metadata": {
    "collapsed": false
   },
   "outputs": [],
   "source": [
    "#numeración de categoricas:\n",
    "dfc['sex'] = dfc['sex'].astype('category').cat.rename_categories(['1', '2'])\n",
    "dfc['marriage'] = dfc['marriage'].astype('category').cat.rename_categories(['1', '2', '3', '4'])\n",
    "dfc = dfc.drop('age_cat', 1)\n",
    "dfc['pred_pay'] = dfc['pred_pay'].astype('category').cat.rename_categories(['0', '1'])"
   ]
  },
  {
   "cell_type": "code",
   "execution_count": 1250,
   "metadata": {
    "collapsed": false
   },
   "outputs": [
    {
     "data": {
      "text/plain": [
       "<matplotlib.axes._subplots.AxesSubplot at 0x9bbfff10b8>"
      ]
     },
     "execution_count": 1250,
     "metadata": {},
     "output_type": "execute_result"
    },
    {
     "data": {
      "image/png": "[encoded data removed]",
      "text/plain": [
       "<matplotlib.figure.Figure at 0x9ba74187b8>"
      ]
     },
     "metadata": {},
     "output_type": "display_data"
    }
   ],
   "source": [
    "f, ax = plt.subplots(figsize=(15, 10))\n",
    "sns.heatmap(dfc.corr(method = 'pearson'), fmt=\"d\", linewidths=.5, ax=ax)"
   ]
  },
  {
   "cell_type": "markdown",
   "metadata": {},
   "source": [
    "En la matriz de correlaciones se puede notar que las variables con mayor correlación son:\n",
    "\n",
    "- Días de retraso en cada mes con los demás días de retaso.\n",
    "- Saldo de cada mes con el saldos de los meses cercanos.\n",
    "\n",
    "Para ambos tipos de variables, es notable que la correlación disminuye entre más separados estén los meses.   "
   ]
  },
  {
   "cell_type": "markdown",
   "metadata": {},
   "source": [
    "# Preparación de datos para el modelado"
   ]
  },
  {
   "cell_type": "markdown",
   "metadata": {},
   "source": [
    "Inicialmente, separamos los datos en dos conjuntos: variable objetivo y conjunto de datos.\n",
    "Luego se exploran los datos para identificar si es necesario realizar una estandarización."
   ]
  },
  {
   "cell_type": "code",
   "execution_count": 1251,
   "metadata": {
    "collapsed": false
   },
   "outputs": [
    {
     "data": {
      "text/html": [
       "<div>\n",
       "<table border=\"1\" class=\"dataframe\">\n",
       "  <thead>\n",
       "    <tr style=\"text-align: right;\">\n",
       "      <th></th>\n",
       "      <th>limit_bal</th>\n",
       "      <th>sex</th>\n",
       "      <th>education</th>\n",
       "      <th>marriage</th>\n",
       "      <th>age</th>\n",
       "      <th>pay_1</th>\n",
       "      <th>pay_2</th>\n",
       "      <th>pay_3</th>\n",
       "      <th>pay_4</th>\n",
       "      <th>pay_5</th>\n",
       "      <th>...</th>\n",
       "      <th>bill_amt4</th>\n",
       "      <th>bill_amt5</th>\n",
       "      <th>bill_amt6</th>\n",
       "      <th>pay_amt1</th>\n",
       "      <th>pay_amt2</th>\n",
       "      <th>pay_amt3</th>\n",
       "      <th>pay_amt4</th>\n",
       "      <th>pay_amt5</th>\n",
       "      <th>pay_amt6</th>\n",
       "      <th>pred_pay</th>\n",
       "    </tr>\n",
       "  </thead>\n",
       "  <tbody>\n",
       "    <tr>\n",
       "      <th>0</th>\n",
       "      <td>20000</td>\n",
       "      <td>2</td>\n",
       "      <td>2</td>\n",
       "      <td>2</td>\n",
       "      <td>24</td>\n",
       "      <td>2</td>\n",
       "      <td>2</td>\n",
       "      <td>-1</td>\n",
       "      <td>-1</td>\n",
       "      <td>-2</td>\n",
       "      <td>...</td>\n",
       "      <td>0</td>\n",
       "      <td>0</td>\n",
       "      <td>0</td>\n",
       "      <td>0</td>\n",
       "      <td>689</td>\n",
       "      <td>0</td>\n",
       "      <td>0</td>\n",
       "      <td>0</td>\n",
       "      <td>0</td>\n",
       "      <td>1</td>\n",
       "    </tr>\n",
       "    <tr>\n",
       "      <th>1</th>\n",
       "      <td>120000</td>\n",
       "      <td>2</td>\n",
       "      <td>2</td>\n",
       "      <td>3</td>\n",
       "      <td>26</td>\n",
       "      <td>-1</td>\n",
       "      <td>2</td>\n",
       "      <td>0</td>\n",
       "      <td>0</td>\n",
       "      <td>0</td>\n",
       "      <td>...</td>\n",
       "      <td>3272</td>\n",
       "      <td>3455</td>\n",
       "      <td>3261</td>\n",
       "      <td>0</td>\n",
       "      <td>1000</td>\n",
       "      <td>1000</td>\n",
       "      <td>1000</td>\n",
       "      <td>0</td>\n",
       "      <td>2000</td>\n",
       "      <td>1</td>\n",
       "    </tr>\n",
       "    <tr>\n",
       "      <th>2</th>\n",
       "      <td>90000</td>\n",
       "      <td>2</td>\n",
       "      <td>2</td>\n",
       "      <td>3</td>\n",
       "      <td>34</td>\n",
       "      <td>0</td>\n",
       "      <td>0</td>\n",
       "      <td>0</td>\n",
       "      <td>0</td>\n",
       "      <td>0</td>\n",
       "      <td>...</td>\n",
       "      <td>14331</td>\n",
       "      <td>14948</td>\n",
       "      <td>15549</td>\n",
       "      <td>1518</td>\n",
       "      <td>1500</td>\n",
       "      <td>1000</td>\n",
       "      <td>1000</td>\n",
       "      <td>1000</td>\n",
       "      <td>5000</td>\n",
       "      <td>0</td>\n",
       "    </tr>\n",
       "    <tr>\n",
       "      <th>3</th>\n",
       "      <td>50000</td>\n",
       "      <td>2</td>\n",
       "      <td>2</td>\n",
       "      <td>2</td>\n",
       "      <td>37</td>\n",
       "      <td>0</td>\n",
       "      <td>0</td>\n",
       "      <td>0</td>\n",
       "      <td>0</td>\n",
       "      <td>0</td>\n",
       "      <td>...</td>\n",
       "      <td>28314</td>\n",
       "      <td>28959</td>\n",
       "      <td>29547</td>\n",
       "      <td>2000</td>\n",
       "      <td>2019</td>\n",
       "      <td>1200</td>\n",
       "      <td>1100</td>\n",
       "      <td>1069</td>\n",
       "      <td>1000</td>\n",
       "      <td>0</td>\n",
       "    </tr>\n",
       "    <tr>\n",
       "      <th>4</th>\n",
       "      <td>50000</td>\n",
       "      <td>1</td>\n",
       "      <td>2</td>\n",
       "      <td>2</td>\n",
       "      <td>57</td>\n",
       "      <td>-1</td>\n",
       "      <td>0</td>\n",
       "      <td>-1</td>\n",
       "      <td>0</td>\n",
       "      <td>0</td>\n",
       "      <td>...</td>\n",
       "      <td>20940</td>\n",
       "      <td>19146</td>\n",
       "      <td>19131</td>\n",
       "      <td>2000</td>\n",
       "      <td>36681</td>\n",
       "      <td>10000</td>\n",
       "      <td>9000</td>\n",
       "      <td>689</td>\n",
       "      <td>679</td>\n",
       "      <td>0</td>\n",
       "    </tr>\n",
       "  </tbody>\n",
       "</table>\n",
       "<p>5 rows × 24 columns</p>\n",
       "</div>"
      ],
      "text/plain": [
       "   limit_bal sex  education marriage  age  pay_1  pay_2  pay_3  pay_4  pay_5  \\\n",
       "0      20000   2          2        2   24      2      2     -1     -1     -2   \n",
       "1     120000   2          2        3   26     -1      2      0      0      0   \n",
       "2      90000   2          2        3   34      0      0      0      0      0   \n",
       "3      50000   2          2        2   37      0      0      0      0      0   \n",
       "4      50000   1          2        2   57     -1      0     -1      0      0   \n",
       "\n",
       "     ...     bill_amt4  bill_amt5  bill_amt6  pay_amt1  pay_amt2  pay_amt3  \\\n",
       "0    ...             0          0          0         0       689         0   \n",
       "1    ...          3272       3455       3261         0      1000      1000   \n",
       "2    ...         14331      14948      15549      1518      1500      1000   \n",
       "3    ...         28314      28959      29547      2000      2019      1200   \n",
       "4    ...         20940      19146      19131      2000     36681     10000   \n",
       "\n",
       "   pay_amt4  pay_amt5  pay_amt6  pred_pay  \n",
       "0         0         0         0         1  \n",
       "1      1000         0      2000         1  \n",
       "2      1000      1000      5000         0  \n",
       "3      1100      1069      1000         0  \n",
       "4      9000       689       679         0  \n",
       "\n",
       "[5 rows x 24 columns]"
      ]
     },
     "execution_count": 1251,
     "metadata": {},
     "output_type": "execute_result"
    }
   ],
   "source": [
    "dfc.head()"
   ]
  },
  {
   "cell_type": "code",
   "execution_count": 1252,
   "metadata": {
    "collapsed": false
   },
   "outputs": [],
   "source": [
    "X_columns = [name for name in dfc.columns if name != \"pred_pay\"]   # Nombres de variables exploratorias\n",
    "y = dfc.loc[:,\"pred_pay\"]   # Variable objetivo\n",
    "X = dfc.loc[:,X_columns]  # Variables exploratorias\n",
    "X_names = X.columns    # Nombres de variables exploratorias\n",
    "\n",
    "## Realizamos una copia de los conjuntos originales\n",
    "y = y.astype('int')\n",
    "\n",
    "X_org = X.copy()\n",
    "y_org = y.copy()"
   ]
  },
  {
   "cell_type": "code",
   "execution_count": 1253,
   "metadata": {
    "collapsed": false
   },
   "outputs": [
    {
     "data": {
      "text/plain": [
       "<matplotlib.axes._subplots.AxesSubplot at 0x9c03ca5518>"
      ]
     },
     "execution_count": 1253,
     "metadata": {},
     "output_type": "execute_result"
    },
    {
     "data": {
      "image/png": "[encoded data removed]",
      "text/plain": [
       "<matplotlib.figure.Figure at 0x9bf79ed390>"
      ]
     },
     "metadata": {},
     "output_type": "display_data"
    }
   ],
   "source": [
    "## Validamos escala de valores entre las caractetisticas de modelado\n",
    "f, ax = plt.subplots(figsize=(20, 10))\n",
    "sns.boxplot(data=X, ax=ax)"
   ]
  },
  {
   "cell_type": "code",
   "execution_count": 1254,
   "metadata": {
    "collapsed": false
   },
   "outputs": [
    {
     "data": {
      "text/plain": [
       "<matplotlib.axes._subplots.AxesSubplot at 0x9bced6acc0>"
      ]
     },
     "execution_count": 1254,
     "metadata": {},
     "output_type": "execute_result"
    },
    {
     "data": {
      "image/png": "[encoded data removed]",
      "text/plain": [
       "<matplotlib.figure.Figure at 0x9bced491d0>"
      ]
     },
     "metadata": {},
     "output_type": "display_data"
    }
   ],
   "source": [
    "##\n",
    "## Normalizamos los datos de la matriz\n",
    "##\n",
    "scaler = MinMaxScaler(feature_range=(0, 1))\n",
    "X = scaler.fit_transform(X)\n",
    "X = pd.DataFrame(X, columns=X_names)\n",
    "\n",
    "f, ax = plt.subplots(figsize=(20, 10))\n",
    "sns.boxplot(data=X, ax=ax)\n"
   ]
  },
  {
   "cell_type": "markdown",
   "metadata": {},
   "source": [
    "# Selección de caracteristicas"
   ]
  },
  {
   "cell_type": "markdown",
   "metadata": {},
   "source": [
    "Dado que la información disponible puede ser o no representativa para el modelo, se deben aplicar tecnicas de selección de caracteristicas para determinar cual información explica mejor la variable objetivo. En este caso aplicaremos los metodos:\n",
    "\n",
    "- Feature Selection\n",
    "- Principal Components Analysis (PCA)\n",
    "\n",
    "Este analisis es importante por que en muchos casos, el conjunto de datos  contiene información que genera ruido en el modelo afectando sus metricas de evaluación.\n",
    "\n",
    "Con ambos metodos compararemos un modelo con el conjunto inicial de variables versus el mismo con las variables selecionadas por el metodo de selección de variables, por lo cual tendremos los siguientes supuestos:\n",
    "\n",
    "- Se conserva en ambos casos el porcentaje de Entrenamiento y prueba, del 80% y 20% resepectivamente.\n",
    "- La misma semilla en las comparaciones para que no se afecte por las selecciones aleatorias.\n",
    "- Se aplicará el mismo metodo de clasificaciones para que no influya en las comparaciones."
   ]
  },
  {
   "cell_type": "code",
   "execution_count": 1255,
   "metadata": {
    "collapsed": false
   },
   "outputs": [
    {
     "name": "stdout",
     "output_type": "stream",
     "text": [
      "Automatically created module for IPython interactive environment\n",
      "RandomForestClassifier(bootstrap=True, class_weight=None, criterion='gini',\n",
      "            max_depth=None, max_features='auto', max_leaf_nodes=None,\n",
      "            min_impurity_split=1e-07, min_samples_leaf=1,\n",
      "            min_samples_split=2, min_weight_fraction_leaf=0.0,\n",
      "            n_estimators=10, n_jobs=3, oob_score=False, random_state=None,\n",
      "            verbose=0, warm_start=False)\n"
     ]
    }
   ],
   "source": [
    "\n",
    "#Preparación de conjuntos \n",
    "\n",
    "#Partición\n",
    "X_train, X_test, y_train_true, y_test_true = train_test_split(\n",
    "    X, y,                       # datos originales\n",
    "    test_size=0.2,        # float/int, tamaño de la muestra de prueba\n",
    "    random_state=44)  # semilla del generador aleatorio\n",
    "\n",
    "#Modelo base\n",
    "print(__doc__)\n",
    "flc = RandomForestClassifier(n_jobs = 3)\n",
    "flc.fit(X_train, y_train_true)\n",
    "print(flc)\n",
    "y_test_pred = flc.predict(X_test)"
   ]
  },
  {
   "cell_type": "raw",
   "metadata": {},
   "source": [
    "Feature Selection (FS)"
   ]
  },
  {
   "cell_type": "code",
   "execution_count": 1256,
   "metadata": {
    "collapsed": false
   },
   "outputs": [
    {
     "name": "stdout",
     "output_type": "stream",
     "text": [
      "RandomForestClassifier(bootstrap=True, class_weight=None, criterion='gini',\n",
      "            max_depth=None, max_features='auto', max_leaf_nodes=None,\n",
      "            min_impurity_split=1e-07, min_samples_leaf=1,\n",
      "            min_samples_split=2, min_weight_fraction_leaf=0.0,\n",
      "            n_estimators=10, n_jobs=3, oob_score=False, random_state=None,\n",
      "            verbose=0, warm_start=False)\n",
      "\n",
      "acurracy original: 0.8093% \n",
      "acurracy Feature Selection: 0.8135% \n",
      "Diferencia: 0.0022% \n"
     ]
    }
   ],
   "source": [
    "#encontramos variables importantes por FS\n",
    "vbles_imp_FS = flc.feature_importances_\n",
    "std = np.std([tree.feature_importances_ for tree in clf.estimators_], axis=0)\n",
    "indices = np.argsort(vbles_imp_FS)[::-1]\n",
    "\n",
    "## Extraemos las n caracteristicas que cubran el 90% de importancia acumulada\n",
    "df = pd.DataFrame(index=indices, data=vbles_imp_FS[indices], columns=[\"vbles_imp_FS\"])\n",
    "df.sort_values(\"vbles_imp_FS\", ascending=False)\n",
    "cumulative = 0\n",
    "indices_new = []\n",
    "for index, row in df.iterrows():\n",
    "    if cumulative < 0.90:\n",
    "        indices_new.append(index)\n",
    "    else:\n",
    "        break\n",
    "    cumulative = cumulative + row['vbles_imp_FS']\n",
    "indices_new = sorted(indices_new)\n",
    "\n",
    "## Modelo de colomnas importantes\n",
    "X_train_new = X_train[X_train.columns[indices_new]]\n",
    "X_test_new = X_test[X_test.columns[indices_new]]\n",
    "\n",
    "flc_new = RandomForestClassifier(n_jobs = 3)\n",
    "print(clf)\n",
    "flc_new.fit(X_train_new, y_train_true)\n",
    "y_test_pred_new = flc_new.predict(X_test_new)\n",
    "\n",
    "#Metrias de evaluación\n",
    "accuracy = accuracy_score(y_true = y_test_true, y_pred = y_test_pred)\n",
    "accuracy_fs = accuracy_score(y_true = y_test_true, y_pred = y_test_pred_new)\n",
    "accuracy_dif = accuracy - accuracy_new\n",
    "print()\n",
    "print(\"acurracy original: {}% \".format(round(accuracy,4)))\n",
    "print(\"acurracy Feature Selection: {}% \".format(round(accuracy_fs,4)))\n",
    "print(\"Diferencia: {}% \".format(round(accuracy_dif,4)))\n"
   ]
  },
  {
   "cell_type": "markdown",
   "metadata": {},
   "source": [
    "Podemos observar que al aplicar la metodo FS, aúnque la metrica accuracy mejora, teoricamente no se considera representativa dado que no supera el indicador en 2.5%, por lo que se sigue considerando los grupos de entrenamiento iniciales sin selección."
   ]
  },
  {
   "cell_type": "raw",
   "metadata": {},
   "source": [
    "Principal Components Analysis"
   ]
  },
  {
   "cell_type": "code",
   "execution_count": 1257,
   "metadata": {
    "collapsed": false
   },
   "outputs": [
    {
     "name": "stdout",
     "output_type": "stream",
     "text": [
      "k     accuracy      accuracy_pca      accuracy_dif\n",
      "3       0.809           0.824            0.002\n",
      "4       0.809           0.822            0.002\n",
      "5       0.809           0.82            0.002\n",
      "6       0.809           0.819            0.002\n",
      "7       0.809           0.804            0.002\n",
      "8       0.809           0.802            0.002\n",
      "9       0.809           0.79            0.002\n",
      "10       0.809           0.802            0.002\n",
      "11       0.809           0.804            0.002\n",
      "12       0.809           0.802            0.002\n",
      "13       0.809           0.804            0.002\n",
      "14       0.809           0.808            0.002\n",
      "15       0.809           0.808            0.002\n",
      "16       0.809           0.809            0.002\n",
      "17       0.809           0.812            0.002\n",
      "18       0.809           0.815            0.002\n",
      "19       0.809           0.81            0.002\n",
      "20       0.809           0.808            0.002\n",
      "21       0.809           0.809            0.002\n",
      "22       0.809           0.813            0.002\n",
      "\n",
      "El mejor valor de k encontrado es: 0\n",
      "acurracy original: 0.8093% \n",
      "acurracy Feature Selection: 0.813% \n",
      "Diferencia: 0.0022% \n"
     ]
    }
   ],
   "source": [
    "mejork = 0\n",
    "mejor_accuracy = 0\n",
    "rows, cols = X.shape\n",
    "list_result = []\n",
    "## Iteramos sobre varios k tratando de encontrar el mejor ajuste\n",
    "print(\"k\", \"    accuracy\", \"     accuracy_pca\", \"     accuracy_dif\")\n",
    "for k in range(cols-20,cols,1):\n",
    "    X_new = SelectKBest(chi2, k=k).fit_transform(X, y)\n",
    "    X_train_new, X_test_new, y_train_true, y_test_true = train_test_split(X_new, y, \n",
    "                                                                          test_size=0.2, \n",
    "                                                                          random_state=44)  \n",
    "\n",
    "    fcl_new = RandomForestClassifier(n_jobs = 3)\n",
    "    fcl_new.fit(X_train_new, y_train_true)\n",
    "    y_test_pred_new = fcl_new.predict(X_test_new)\n",
    "\n",
    "    accuracy = accuracy_score(y_true = y_test_true, y_pred = y_test_pred)\n",
    "    accuracy_pca = accuracy_score(y_true = y_test_true, y_pred = y_test_pred_new)\n",
    "    accuracy_dif = accuracy - accuracy_new\n",
    "  \n",
    "    #list_result.append([accuracy, accuracy_new, accuracy_dif, k])\n",
    "\n",
    "    print(k, \"     \", round(accuracy,3), \"         \", round(accuracy_pca,3), \"          \", round(accuracy_dif,3))\n",
    "    \n",
    "    if accuracy_dif <= -0.025:   # La diferencia debe ser más de 2.5% de la precisión original\n",
    "        #print(\"El ajuste por combinación de componentes es viable.\")\n",
    "        if mejor_accuracy < abs(accuracy_dif):\n",
    "            X_train = X_train_new\n",
    "            X_test = X_test_new\n",
    "            mejork = k\n",
    "\n",
    "#Print(list_result[2:6])\n",
    "print()            \n",
    "print(\"El mejor valor de k encontrado es:\", mejor_accuracy)\n",
    "\n",
    "print(\"acurracy original: {}% \".format(round(accuracy,4)))\n",
    "print(\"acurracy Feature Selection: {}% \".format(round(accuracy_pca,4)))\n",
    "print(\"Diferencia: {}% \".format(round(accuracy_dif,4)))\n",
    "\n",
    "#data_result = pd.DataFrame(data=list_result,\n",
    "#                           columns=['accuracy-org', 'accuracy-pca', 'difference', 'k-value'])\n",
    "#data_result"
   ]
  },
  {
   "cell_type": "markdown",
   "metadata": {},
   "source": [
    "Con el metodo de Analisis de componentes principales, observamos que tampoco mejora el accuracy representativamente. "
   ]
  },
  {
   "cell_type": "markdown",
   "metadata": {},
   "source": [
    "Dado que los dos metodos evaluados no mejoran representativamente los resultados se procede a la elaboración de los modelos tomando el conjunto de datos sin seleción."
   ]
  },
  {
   "cell_type": "markdown",
   "metadata": {},
   "source": [
    "# Modelado"
   ]
  },
  {
   "cell_type": "markdown",
   "metadata": {},
   "source": [
    "Para la elaboración del modelo predictivo, se usarán las siguientes tecnicas de clasificación:\n",
    "\n",
    "- Vecinos más Cercanos (KNN)\n",
    "- Arbol de decisión\n",
    "- Maquinas de vectores de soporte (SVM)\n",
    "- Random Forest\n",
    "\n",
    "A los cuales se les aplicará cross-validation e hyper-parameters tuning.\n",
    "\n",
    "Metricas a Evaluar:\n",
    "\n",
    "- Accuracy\n",
    "- F1\n",
    "- Eecall\n",
    "- Roc auc\n",
    "- Jaccard similarity\n",
    "- Confusion matrix\n"
   ]
  },
  {
   "cell_type": "code",
   "execution_count": 1258,
   "metadata": {
    "collapsed": false
   },
   "outputs": [
    {
     "name": "stdout",
     "output_type": "stream",
     "text": [
      "Automatically created module for IPython interactive environment\n",
      "RandomForestClassifier(bootstrap=True, class_weight=None, criterion='gini',\n",
      "            max_depth=None, max_features='auto', max_leaf_nodes=None,\n",
      "            min_impurity_split=1e-07, min_samples_leaf=1,\n",
      "            min_samples_split=2, min_weight_fraction_leaf=0.0,\n",
      "            n_estimators=10, n_jobs=3, oob_score=False, random_state=None,\n",
      "            verbose=0, warm_start=False)\n"
     ]
    }
   ],
   "source": [
    "#Selección de grupos de entrenamiento y prueba\n",
    "#Utilizaremos una proporción de datos 70% y 30%, respectivamente\n",
    "\n",
    "X_train, X_test, y_train_true, y_test_true = train_test_split(\n",
    "    X, y,                       # datos originales\n",
    "    test_size=0.3,        # float/int, tamaño de la muestra de prueba\n",
    "    random_state=44)  # semilla del generador aleatorio\n",
    "\n",
    "## Construimos un Random Forest por default y modelamos el proceso\n",
    "## Utilizaremos estas predicciones para identificar agrupaciones de características\n",
    "##\n",
    "print(__doc__)\n",
    "clf = RandomForestClassifier(n_jobs = 3)\n",
    "clf.fit(X_train, y_train_true)\n",
    "print(clf)\n",
    "y_test_pred = clf.predict(X_test)\n"
   ]
  },
  {
   "cell_type": "code",
   "execution_count": 1259,
   "metadata": {
    "collapsed": false
   },
   "outputs": [],
   "source": [
    "##\n",
    "## Definimos una función para ejecutar las metodologías\n",
    "##\n",
    "def fun_pred(classifier,\n",
    "                       tuned_params,\n",
    "                       scores):\n",
    "    #start = tm.time() % 60\n",
    "    result = []\n",
    "    for score in scores:\n",
    "        print()\n",
    "        print(\"Parámetros ajustados del score: %s\" % score)\n",
    "        print()\n",
    "\n",
    "        # Entrenamiento usando cross-validation con 3 folds\n",
    "        clf = GridSearchCV(classifier, tuned_params, cv=3, scoring='%s_macro' % score, n_jobs=3)\n",
    "        clf.fit(X_train, y_train_true)\n",
    "        \n",
    "        print(\"Mejores parámetros encontrados:\")\n",
    "        print(clf.best_params_)\n",
    "        print()\n",
    "        \n",
    "        # Predicción con datos de prueba para validar metricas\n",
    "        y_true, y_pred = y_test_true, clf.predict(X_test)\n",
    "        \n",
    "        #print(\"Reporte de clasificación detallado:\")\n",
    "        #print()\n",
    "        #print(classification_report(y_true, y_pred))\n",
    "        #print()\n",
    "        \n",
    "        accuracy_result = accuracy_score(y_true, y_pred)\n",
    "        recall_result = recall_score(y_true, y_pred)\n",
    "        f1_result = f1_score(y_true, y_pred)\n",
    "        roc_auc_result = roc_auc_score(y_true, y_pred)\n",
    "        jaccard_result = jaccard_similarity_score(y_true, y_pred)\n",
    "        conf_matrix_result = confusion_matrix(y_true, y_pred)\n",
    "        \n",
    "        result.append([score, \n",
    "                              round(accuracy_result, 4), \n",
    "                              round(1-accuracy_result, 4), \n",
    "                              round(recall_result, 4), \n",
    "                              round(f1_result, 4), \n",
    "                              round(roc_auc_result, 4), \n",
    "                              round(jaccard_result, 4),\n",
    "                              clf.best_params_,\n",
    "                              conf_matrix_result])\n",
    "    \n",
    "    return(result)\n",
    "    "
   ]
  },
  {
   "cell_type": "raw",
   "metadata": {},
   "source": [
    "Vecinos más Cercanos (KNN)"
   ]
  },
  {
   "cell_type": "markdown",
   "metadata": {},
   "source": [
    "Modelamos con KNN utilizando ajuste de hiperparametros con los siguientes valores de vecinos: 21, 31, 41."
   ]
  },
  {
   "cell_type": "code",
   "execution_count": 1260,
   "metadata": {
    "collapsed": false
   },
   "outputs": [
    {
     "name": "stdout",
     "output_type": "stream",
     "text": [
      "Automatically created module for IPython interactive environment\n",
      "\n",
      "Parámetros ajustados del score: precision\n",
      "\n",
      "Mejores parámetros encontrados:\n",
      "{'n_neighbors': 41}\n",
      "\n"
     ]
    }
   ],
   "source": [
    "print(__doc__)\n",
    "\n",
    "# Ajuste de parámetros para la metodología\n",
    "tuned_params = [{'n_neighbors': [21, 31, 41]}]\n",
    "\n",
    "# Metricas seleccionadas para validar metodología\n",
    "scores = ['precision']\n",
    "\n",
    "# Ejecutamos grid search para la metodología\n",
    "knn_result = fun_pred(KNeighborsClassifier(), tuned_params, scores)"
   ]
  },
  {
   "cell_type": "code",
   "execution_count": 1261,
   "metadata": {
    "collapsed": false
   },
   "outputs": [
    {
     "name": "stdout",
     "output_type": "stream",
     "text": [
      "Automatically created module for IPython interactive environment\n",
      "\n",
      "Parámetros ajustados del score: precision\n",
      "\n",
      "Mejores parámetros encontrados:\n",
      "{'max_depth': 5}\n",
      "\n"
     ]
    }
   ],
   "source": [
    "print(__doc__)\n",
    "\n",
    "# Ajuste de parámetros para la metodología\n",
    "tuned_params = [{'max_depth': [5, 10, 20]}]\n",
    "\n",
    "# Metricas seleccionadas para validar metodología\n",
    "scores = ['precision']\n",
    "\n",
    "# Ejecutamos grid search para la metodología\n",
    "tree_result = fun_pred(DecisionTreeClassifier(), tuned_params, scores)"
   ]
  },
  {
   "cell_type": "raw",
   "metadata": {},
   "source": [
    "Maquina de Vector de Soporte"
   ]
  },
  {
   "cell_type": "code",
   "execution_count": 1262,
   "metadata": {
    "collapsed": false
   },
   "outputs": [
    {
     "name": "stdout",
     "output_type": "stream",
     "text": [
      "Automatically created module for IPython interactive environment\n",
      "\n",
      "Parámetros ajustados del score: precision\n",
      "\n",
      "Mejores parámetros encontrados:\n",
      "{'C': 5, 'kernel': 'rbf'}\n",
      "\n"
     ]
    }
   ],
   "source": [
    "\n",
    "print(__doc__)\n",
    "\n",
    "# Ajuste de parámetros para la metodología\n",
    "#tuned_params = [{'kernel': ['rbf'], 'gamma': [1e-3, 1e-4], 'C': [1, 10, 100]},\n",
    "#                {'kernel': ['linear'], 'C': [1, 10, 100]}]\n",
    "tuned_params = [{'kernel': ['rbf'], 'C': [1, 3, 5]}]\n",
    "\n",
    "# Metricas seleccionadas para validar metodología\n",
    "scores = ['precision']\n",
    "\n",
    "# Ejecutamos grid search para la metodología\n",
    "svm_result = fun_pred(SVC(), tuned_params, scores)"
   ]
  },
  {
   "cell_type": "raw",
   "metadata": {},
   "source": [
    "Metodología Random Forest"
   ]
  },
  {
   "cell_type": "code",
   "execution_count": 1263,
   "metadata": {
    "collapsed": false
   },
   "outputs": [
    {
     "name": "stdout",
     "output_type": "stream",
     "text": [
      "Automatically created module for IPython interactive environment\n",
      "\n",
      "Parámetros ajustados del score: precision\n",
      "\n",
      "Mejores parámetros encontrados:\n",
      "{'n_estimators': 80}\n",
      "\n"
     ]
    }
   ],
   "source": [
    "print(__doc__)\n",
    "\n",
    "# Ajuste de parámetros para la metodología\n",
    "tuned_params = [{'n_estimators': [20, 50, 80]}]\n",
    "\n",
    "# Metricas seleccionadas para validar metodología\n",
    "scores = ['precision']\n",
    "\n",
    "# Ejecutamos grid search para la metodología\n",
    "forest_result = fun_pred(RandomForestClassifier(), tuned_params, scores)"
   ]
  },
  {
   "cell_type": "markdown",
   "metadata": {},
   "source": [
    "# Evaluación del los modelos"
   ]
  },
  {
   "cell_type": "raw",
   "metadata": {},
   "source": [
    "A continuación se presentará un reporte de los resultados obtenidos del proceso de modelado con las 4 metodologías seleccionadas: K-Nearest Neighbors, Decision Tree, Random Forest y C-Support Vector Machine. Este reporte muestra cuatro medidas de precisión (accuracy, error rato, recall, f1 score y jaccard similarity). Se evaluaran los resultados y se tomará una decisión respecto del modelo con mejor desempeño. (REESCRIBIR)"
   ]
  },
  {
   "cell_type": "code",
   "execution_count": 1264,
   "metadata": {
    "collapsed": true
   },
   "outputs": [],
   "source": [
    "## definimos Función que colorear el fondo del Data Frame\n",
    "## \n",
    "def highlight_max(s):\n",
    "    is_max = s == s.max()\n",
    "    return ['background-color: cyan' if v else '' for v in is_max]"
   ]
  },
  {
   "cell_type": "code",
   "execution_count": 1265,
   "metadata": {
    "collapsed": false
   },
   "outputs": [
    {
     "data": {
      "text/html": [
       "\n",
       "        <style  type=\"text/css\" >\n",
       "        \n",
       "        \n",
       "            #T_44eae5ae_3e91_11e8_b27e_d8fc935d7dd8row1_col1 {\n",
       "            \n",
       "                background-color:  coral;\n",
       "            \n",
       "            }\n",
       "        \n",
       "            #T_44eae5ae_3e91_11e8_b27e_d8fc935d7dd8row1_col3 {\n",
       "            \n",
       "                background-color:  coral;\n",
       "            \n",
       "            }\n",
       "        \n",
       "            #T_44eae5ae_3e91_11e8_b27e_d8fc935d7dd8row1_col4 {\n",
       "            \n",
       "                background-color:  coral;\n",
       "            \n",
       "            }\n",
       "        \n",
       "            #T_44eae5ae_3e91_11e8_b27e_d8fc935d7dd8row1_col5 {\n",
       "            \n",
       "                background-color:  coral;\n",
       "            \n",
       "            }\n",
       "        \n",
       "            #T_44eae5ae_3e91_11e8_b27e_d8fc935d7dd8row1_col6 {\n",
       "            \n",
       "                background-color:  coral;\n",
       "            \n",
       "            }\n",
       "        \n",
       "        </style>\n",
       "\n",
       "        <table id=\"T_44eae5ae_3e91_11e8_b27e_d8fc935d7dd8\" None>\n",
       "        \n",
       "\n",
       "        <thead>\n",
       "            \n",
       "            <tr>\n",
       "                \n",
       "                \n",
       "                <th class=\"blank level0\" >\n",
       "                  \n",
       "                \n",
       "                \n",
       "                \n",
       "                <th class=\"col_heading level0 col0\" colspan=1>\n",
       "                  score\n",
       "                \n",
       "                \n",
       "                \n",
       "                <th class=\"col_heading level0 col1\" colspan=1>\n",
       "                  accuracy\n",
       "                \n",
       "                \n",
       "                \n",
       "                <th class=\"col_heading level0 col2\" colspan=1>\n",
       "                  error_rate\n",
       "                \n",
       "                \n",
       "                \n",
       "                <th class=\"col_heading level0 col3\" colspan=1>\n",
       "                  recall\n",
       "                \n",
       "                \n",
       "                \n",
       "                <th class=\"col_heading level0 col4\" colspan=1>\n",
       "                  f1_score\n",
       "                \n",
       "                \n",
       "                \n",
       "                <th class=\"col_heading level0 col5\" colspan=1>\n",
       "                  roc_auc\n",
       "                \n",
       "                \n",
       "                \n",
       "                <th class=\"col_heading level0 col6\" colspan=1>\n",
       "                  jaccard_similarity\n",
       "                \n",
       "                \n",
       "                \n",
       "                <th class=\"col_heading level0 col7\" colspan=1>\n",
       "                  best_params\n",
       "                \n",
       "                \n",
       "            </tr>\n",
       "            \n",
       "        </thead>\n",
       "        <tbody>\n",
       "            \n",
       "            <tr>\n",
       "                \n",
       "                \n",
       "                <th id=\"T_44eae5ae_3e91_11e8_b27e_d8fc935d7dd8\"\n",
       "                 class=\"row_heading level0 row0\" rowspan=1>\n",
       "                    KNearestNeighbors\n",
       "                \n",
       "                \n",
       "                \n",
       "                <td id=\"T_44eae5ae_3e91_11e8_b27e_d8fc935d7dd8row0_col0\"\n",
       "                 class=\"data row0 col0\" >\n",
       "                    precision\n",
       "                \n",
       "                \n",
       "                \n",
       "                <td id=\"T_44eae5ae_3e91_11e8_b27e_d8fc935d7dd8row0_col1\"\n",
       "                 class=\"data row0 col1\" >\n",
       "                    0.814\n",
       "                \n",
       "                \n",
       "                \n",
       "                <td id=\"T_44eae5ae_3e91_11e8_b27e_d8fc935d7dd8row0_col2\"\n",
       "                 class=\"data row0 col2\" >\n",
       "                    0.186\n",
       "                \n",
       "                \n",
       "                \n",
       "                <td id=\"T_44eae5ae_3e91_11e8_b27e_d8fc935d7dd8row0_col3\"\n",
       "                 class=\"data row0 col3\" >\n",
       "                    0.3121\n",
       "                \n",
       "                \n",
       "                \n",
       "                <td id=\"T_44eae5ae_3e91_11e8_b27e_d8fc935d7dd8row0_col4\"\n",
       "                 class=\"data row0 col4\" >\n",
       "                    0.4259\n",
       "                \n",
       "                \n",
       "                \n",
       "                <td id=\"T_44eae5ae_3e91_11e8_b27e_d8fc935d7dd8row0_col5\"\n",
       "                 class=\"data row0 col5\" >\n",
       "                    0.6343\n",
       "                \n",
       "                \n",
       "                \n",
       "                <td id=\"T_44eae5ae_3e91_11e8_b27e_d8fc935d7dd8row0_col6\"\n",
       "                 class=\"data row0 col6\" >\n",
       "                    0.814\n",
       "                \n",
       "                \n",
       "                \n",
       "                <td id=\"T_44eae5ae_3e91_11e8_b27e_d8fc935d7dd8row0_col7\"\n",
       "                 class=\"data row0 col7\" >\n",
       "                    {'n_neighbors': 41}\n",
       "                \n",
       "                \n",
       "            </tr>\n",
       "            \n",
       "            <tr>\n",
       "                \n",
       "                \n",
       "                <th id=\"T_44eae5ae_3e91_11e8_b27e_d8fc935d7dd8\"\n",
       "                 class=\"row_heading level0 row1\" rowspan=1>\n",
       "                    DecisionTree\n",
       "                \n",
       "                \n",
       "                \n",
       "                <td id=\"T_44eae5ae_3e91_11e8_b27e_d8fc935d7dd8row1_col0\"\n",
       "                 class=\"data row1 col0\" >\n",
       "                    precision\n",
       "                \n",
       "                \n",
       "                \n",
       "                <td id=\"T_44eae5ae_3e91_11e8_b27e_d8fc935d7dd8row1_col1\"\n",
       "                 class=\"data row1 col1\" >\n",
       "                    0.8194\n",
       "                \n",
       "                \n",
       "                \n",
       "                <td id=\"T_44eae5ae_3e91_11e8_b27e_d8fc935d7dd8row1_col2\"\n",
       "                 class=\"data row1 col2\" >\n",
       "                    0.1806\n",
       "                \n",
       "                \n",
       "                \n",
       "                <td id=\"T_44eae5ae_3e91_11e8_b27e_d8fc935d7dd8row1_col3\"\n",
       "                 class=\"data row1 col3\" >\n",
       "                    0.3849\n",
       "                \n",
       "                \n",
       "                \n",
       "                <td id=\"T_44eae5ae_3e91_11e8_b27e_d8fc935d7dd8row1_col4\"\n",
       "                 class=\"data row1 col4\" >\n",
       "                    0.4853\n",
       "                \n",
       "                \n",
       "                \n",
       "                <td id=\"T_44eae5ae_3e91_11e8_b27e_d8fc935d7dd8row1_col5\"\n",
       "                 class=\"data row1 col5\" >\n",
       "                    0.6639\n",
       "                \n",
       "                \n",
       "                \n",
       "                <td id=\"T_44eae5ae_3e91_11e8_b27e_d8fc935d7dd8row1_col6\"\n",
       "                 class=\"data row1 col6\" >\n",
       "                    0.8194\n",
       "                \n",
       "                \n",
       "                \n",
       "                <td id=\"T_44eae5ae_3e91_11e8_b27e_d8fc935d7dd8row1_col7\"\n",
       "                 class=\"data row1 col7\" >\n",
       "                    {'max_depth': 5}\n",
       "                \n",
       "                \n",
       "            </tr>\n",
       "            \n",
       "            <tr>\n",
       "                \n",
       "                \n",
       "                <th id=\"T_44eae5ae_3e91_11e8_b27e_d8fc935d7dd8\"\n",
       "                 class=\"row_heading level0 row2\" rowspan=1>\n",
       "                    RandomForest\n",
       "                \n",
       "                \n",
       "                \n",
       "                <td id=\"T_44eae5ae_3e91_11e8_b27e_d8fc935d7dd8row2_col0\"\n",
       "                 class=\"data row2 col0\" >\n",
       "                    precision\n",
       "                \n",
       "                \n",
       "                \n",
       "                <td id=\"T_44eae5ae_3e91_11e8_b27e_d8fc935d7dd8row2_col1\"\n",
       "                 class=\"data row2 col1\" >\n",
       "                    0.8013\n",
       "                \n",
       "                \n",
       "                \n",
       "                <td id=\"T_44eae5ae_3e91_11e8_b27e_d8fc935d7dd8row2_col2\"\n",
       "                 class=\"data row2 col2\" >\n",
       "                    0.1987\n",
       "                \n",
       "                \n",
       "                \n",
       "                <td id=\"T_44eae5ae_3e91_11e8_b27e_d8fc935d7dd8row2_col3\"\n",
       "                 class=\"data row2 col3\" >\n",
       "                    0.1492\n",
       "                \n",
       "                \n",
       "                \n",
       "                <td id=\"T_44eae5ae_3e91_11e8_b27e_d8fc935d7dd8row2_col4\"\n",
       "                 class=\"data row2 col4\" >\n",
       "                    0.2494\n",
       "                \n",
       "                \n",
       "                \n",
       "                <td id=\"T_44eae5ae_3e91_11e8_b27e_d8fc935d7dd8row2_col5\"\n",
       "                 class=\"data row2 col5\" >\n",
       "                    0.5678\n",
       "                \n",
       "                \n",
       "                \n",
       "                <td id=\"T_44eae5ae_3e91_11e8_b27e_d8fc935d7dd8row2_col6\"\n",
       "                 class=\"data row2 col6\" >\n",
       "                    0.8013\n",
       "                \n",
       "                \n",
       "                \n",
       "                <td id=\"T_44eae5ae_3e91_11e8_b27e_d8fc935d7dd8row2_col7\"\n",
       "                 class=\"data row2 col7\" >\n",
       "                    {'C': 5, 'kernel': 'rbf'}\n",
       "                \n",
       "                \n",
       "            </tr>\n",
       "            \n",
       "            <tr>\n",
       "                \n",
       "                \n",
       "                <th id=\"T_44eae5ae_3e91_11e8_b27e_d8fc935d7dd8\"\n",
       "                 class=\"row_heading level0 row3\" rowspan=1>\n",
       "                    SupportVectorMachine\n",
       "                \n",
       "                \n",
       "                \n",
       "                <td id=\"T_44eae5ae_3e91_11e8_b27e_d8fc935d7dd8row3_col0\"\n",
       "                 class=\"data row3 col0\" >\n",
       "                    precision\n",
       "                \n",
       "                \n",
       "                \n",
       "                <td id=\"T_44eae5ae_3e91_11e8_b27e_d8fc935d7dd8row3_col1\"\n",
       "                 class=\"data row3 col1\" >\n",
       "                    0.8171\n",
       "                \n",
       "                \n",
       "                \n",
       "                <td id=\"T_44eae5ae_3e91_11e8_b27e_d8fc935d7dd8row3_col2\"\n",
       "                 class=\"data row3 col2\" >\n",
       "                    0.1829\n",
       "                \n",
       "                \n",
       "                \n",
       "                <td id=\"T_44eae5ae_3e91_11e8_b27e_d8fc935d7dd8row3_col3\"\n",
       "                 class=\"data row3 col3\" >\n",
       "                    0.3698\n",
       "                \n",
       "                \n",
       "                \n",
       "                <td id=\"T_44eae5ae_3e91_11e8_b27e_d8fc935d7dd8row3_col4\"\n",
       "                 class=\"data row3 col4\" >\n",
       "                    0.4721\n",
       "                \n",
       "                \n",
       "                \n",
       "                <td id=\"T_44eae5ae_3e91_11e8_b27e_d8fc935d7dd8row3_col5\"\n",
       "                 class=\"data row3 col5\" >\n",
       "                    0.657\n",
       "                \n",
       "                \n",
       "                \n",
       "                <td id=\"T_44eae5ae_3e91_11e8_b27e_d8fc935d7dd8row3_col6\"\n",
       "                 class=\"data row3 col6\" >\n",
       "                    0.8171\n",
       "                \n",
       "                \n",
       "                \n",
       "                <td id=\"T_44eae5ae_3e91_11e8_b27e_d8fc935d7dd8row3_col7\"\n",
       "                 class=\"data row3 col7\" >\n",
       "                    {'n_estimators': 80}\n",
       "                \n",
       "                \n",
       "            </tr>\n",
       "            \n",
       "        </tbody>\n",
       "        </table>\n",
       "        "
      ],
      "text/plain": [
       "<pandas.formats.style.Styler at 0x9c04403da0>"
      ]
     },
     "execution_count": 1265,
     "metadata": {},
     "output_type": "execute_result"
    }
   ],
   "source": [
    "##\n",
    "## Construimos un Data Frame con todos los resultados de la evaluación\n",
    "##\n",
    "data_indexes = [\"KNearestNeighbors\", \"DecisionTree\", \"RandomForest\", \"SupportVectorMachine\"]\n",
    "data_columns = [\"score\", \"accuracy\", \"error_rate\", \"recall\", \"f1_score\", \"roc_auc\",\n",
    "                \"jaccard_similarity\", \"best_params\", \"confusion_matriz\"]\n",
    "data_values = [list(chain.from_iterable(knn_result)),\n",
    "               list(chain.from_iterable(tree_result)),\n",
    "               list(chain.from_iterable(svm_result)),\n",
    "               list(chain.from_iterable(forest_result))]\n",
    "data_result = pd.DataFrame(data = data_values, columns = data_columns, index = data_indexes)\n",
    "\n",
    "##\n",
    "## Función para colorear fondo en un Data Frame\n",
    "## http://pandas.pydata.org/pandas-docs/stable/style.html\n",
    "##\n",
    "def highlight_max(s):\n",
    "    is_max = s == s.max()\n",
    "    return ['background-color: coral' if v else '' for v in is_max]\n",
    "\n",
    "##\n",
    "## Mostramos los resultados de la evaluación con todos los scores\n",
    "## Con un fondo de color se muestra la mejor estimación\n",
    "##\n",
    "data_result.iloc[:,:-1].style.apply(highlight_max, \n",
    "                                    subset=['accuracy', 'recall', 'f1_score', 'roc_auc', 'jaccard_similarity'])"
   ]
  },
  {
   "cell_type": "code",
   "execution_count": 1266,
   "metadata": {
    "collapsed": false
   },
   "outputs": [
    {
     "data": {
      "text/plain": [
       "<matplotlib.axes._subplots.AxesSubplot at 0x9b9dc6bf60>"
      ]
     },
     "execution_count": 1266,
     "metadata": {},
     "output_type": "execute_result"
    },
    {
     "data": {
      "image/png": "[encoded data removed]",
      "text/plain": [
       "<matplotlib.figure.Figure at 0x9c04403f28>"
      ]
     },
     "metadata": {},
     "output_type": "display_data"
    }
   ],
   "source": [
    "##\n",
    "## Graficamos las matrices de confusión para todos los estimadores\n",
    "##\n",
    "pred, true = ('predicted', 'true')\n",
    "conf_matrix = list(chain.from_iterable(data_result.iloc[:,8:9].values))\n",
    "f, axes = plt.subplots(nrows=2, ncols=2, figsize=(15, 10))\n",
    "axes[0, 0].set_title(data_indexes[0]); axes[0, 1].set_title(data_indexes[1])\n",
    "axes[1, 0].set_title(data_indexes[2]); axes[1, 1].set_title(data_indexes[3])\n",
    "axes[0, 0].set_xlabel(pred); axes[0, 0].set_ylabel(true)\n",
    "axes[0, 1].set_xlabel(pred); axes[0, 1].set_ylabel(true)\n",
    "axes[1, 0].set_xlabel(pred); axes[1, 0].set_ylabel(true)\n",
    "axes[1, 1].set_xlabel(pred); axes[1, 1].set_ylabel(true)\n",
    "sns.heatmap(conf_matrix[0], annot=True, fmt=\"d\", linewidths=.5, ax=axes[0, 0])\n",
    "sns.heatmap(conf_matrix[1], annot=True, fmt=\"d\", linewidths=.5, ax=axes[0, 1])\n",
    "sns.heatmap(conf_matrix[2], annot=True, fmt=\"d\", linewidths=.5, ax=axes[1, 0])\n",
    "sns.heatmap(conf_matrix[3], annot=True, fmt=\"d\", linewidths=.5, ax=axes[1, 1])"
   ]
  },
  {
   "cell_type": "code",
   "execution_count": 1267,
   "metadata": {
    "collapsed": false
   },
   "outputs": [
    {
     "ename": "NameError",
     "evalue": "name 'X_true' is not defined",
     "output_type": "error",
     "traceback": [
      "\u001b[0;31m---------------------------------------------------------------------------\u001b[0m",
      "\u001b[0;31mNameError\u001b[0m                                 Traceback (most recent call last)",
      "\u001b[0;32m<ipython-input-1267-545798755e2c>\u001b[0m in \u001b[0;36m<module>\u001b[0;34m()\u001b[0m\n\u001b[0;32m----> 1\u001b[0;31m \u001b[0mX_true\u001b[0m\u001b[1;33m.\u001b[0m\u001b[0mhead\u001b[0m\u001b[1;33m(\u001b[0m\u001b[1;33m)\u001b[0m\u001b[1;33m\u001b[0m\u001b[0m\n\u001b[0m",
      "\u001b[0;31mNameError\u001b[0m: name 'X_true' is not defined"
     ]
    }
   ],
   "source": [
    "X_true.head()"
   ]
  },
  {
   "cell_type": "code",
   "execution_count": null,
   "metadata": {
    "collapsed": false
   },
   "outputs": [],
   "source": [
    "X.head()\n"
   ]
  },
  {
   "cell_type": "code",
   "execution_count": null,
   "metadata": {
    "collapsed": true
   },
   "outputs": [],
   "source": []
  }
 ],
 "metadata": {
  "kernelspec": {
   "display_name": "Python 3",
   "language": "python",
   "name": "python3"
  },
  "language_info": {
   "codemirror_mode": {
    "name": "ipython",
    "version": 3
   },
   "file_extension": ".py",
   "mimetype": "text/x-python",
   "name": "python",
   "nbconvert_exporter": "python",
   "pygments_lexer": "ipython3",
   "version": "3.6.0"
  }
 },
 "nbformat": 4,
 "nbformat_minor": 2
}
